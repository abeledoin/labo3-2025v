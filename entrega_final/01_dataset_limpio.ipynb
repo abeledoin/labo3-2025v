{
 "cells": [
  {
   "cell_type": "markdown",
   "metadata": {},
   "source": [
    "# Armado Dataset\n",
    "Carga, limpieza, agregación y relleno a nivel product_id"
   ]
  },
  {
   "cell_type": "code",
   "execution_count": 4,
   "metadata": {},
   "outputs": [],
   "source": [
    "#from google.colab import drive\n",
    "import pandas as pd\n",
    "import numpy as np\n",
    "import os\n",
    "\n",
    "# 1) Montar Google Drive\n",
    "#drive.mount('/content/drive')\n",
    "\n",
    "# 2) Definir rutas en Drive\n",
    "BASE_DATOS     = '/Users/indianaabeledo/Documents/Maestria/laboratorio_III/datasets/'\n",
    "INTERMEDIOS   = '/Users/indianaabeledo/Documents/Maestria/laboratorio_III/entrega_final/intermedios/'\n",
    "SALIDAS       = '/Users/indianaabeledo/Documents/Maestria/laboratorio_III/entrega_final/output/'\n",
    "\n",
    "# Crear carpetas si no existen\n",
    "os.makedirs(INTERMEDIOS, exist_ok=True)\n",
    "os.makedirs(SALIDAS,     exist_ok=True)"
   ]
  },
  {
   "cell_type": "code",
   "execution_count": 6,
   "metadata": {},
   "outputs": [
    {
     "name": "stdout",
     "output_type": "stream",
     "text": [
      "🔄 Cargando archivos desde carpeta...\n"
     ]
    }
   ],
   "source": [
    "# 3) Carga de archivos desde Drive\n",
    "print(\"🔄 Cargando archivos desde carpeta...\")\n",
    "productos_pred = pd.read_csv(os.path.join(BASE_DATOS, \"productos_pred.txt\"), sep=\"\\t\")\n",
    "df             = pd.read_csv(os.path.join(BASE_DATOS, \"sell-in.txt\"),        sep=\"\\t\")\n",
    "productos      = pd.read_csv(os.path.join(BASE_DATOS, \"tb_productos.txt\"),   sep=\"\\t\")\n",
    "stock          = pd.read_csv(os.path.join(BASE_DATOS, \"tb_stocks.txt\"),      sep=\"\\t\")"
   ]
  },
  {
   "cell_type": "code",
   "execution_count": 7,
   "metadata": {},
   "outputs": [],
   "source": [
    "# 4) Tipado y limpieza\n",
    "productos_pred[\"product_id\"] = productos_pred[\"product_id\"].astype(\"category\")\n",
    "df[\"product_id\"]             = df[\"product_id\"].astype(\"category\")\n",
    "df[\"plan_precios_cuidados\"]  = df[\"plan_precios_cuidados\"].fillna(False).astype(\"bool\")\n",
    "df[\"periodo\"]                = df[\"periodo\"].astype(\"int32\")\n",
    "df[\"cust_request_qty\"]       = df[\"cust_request_qty\"].astype(\"float32\")\n",
    "df[\"cust_request_tn\"]        = df[\"cust_request_tn\"].astype(\"float32\")\n",
    "df[\"tn\"]                     = df[\"tn\"].astype(\"float32\")\n",
    "df[\"fecha\"]                  = pd.to_datetime(df[\"periodo\"].astype(str) + \"01\", format=\"%Y%m%d\")"
   ]
  },
  {
   "cell_type": "code",
   "execution_count": 8,
   "metadata": {},
   "outputs": [
    {
     "name": "stdout",
     "output_type": "stream",
     "text": [
      "🔄 Agregando a nivel producto-periodo...\n"
     ]
    }
   ],
   "source": [
    "# 5) Agregación a nivel product_id–periodo\n",
    "print(\"🔄 Agregando a nivel producto-periodo...\")\n",
    "sell_in_agg = (\n",
    "    df\n",
    "    .groupby(['periodo','product_id'], observed=True, as_index=False)\n",
    "    .agg(\n",
    "        tn                      = ('tn',               'sum'),\n",
    "        cust_request_qty        = ('cust_request_qty', 'sum'),\n",
    "        cust_request_tn         = ('cust_request_tn',  'sum'),\n",
    "        plan_precios_cuidados   = ('plan_precios_cuidados','max'),\n",
    "        n_customers             = ('customer_id',      'nunique')\n",
    "    )\n",
    ")"
   ]
  },
  {
   "cell_type": "code",
   "execution_count": 9,
   "metadata": {},
   "outputs": [
    {
     "name": "stdout",
     "output_type": "stream",
     "text": [
      "🔄 Rellenando ceros para periodos faltantes...\n"
     ]
    },
    {
     "name": "stderr",
     "output_type": "stream",
     "text": [
      "/var/folders/c5/g8wp4j8j1nd226rj0lw9_vz40000gn/T/ipykernel_61301/1397902700.py:11: FutureWarning: Downcasting object dtype arrays on .fillna, .ffill, .bfill is deprecated and will change in a future version. Call result.infer_objects(copy=False) instead. To opt-in to the future behavior, set `pd.set_option('future.no_silent_downcasting', True)`\n",
      "  df_univ\n"
     ]
    }
   ],
   "source": [
    "# 6) Rellenado de ceros para periodos sin ventas\n",
    "print(\"🔄 Rellenando ceros para periodos faltantes...\")\n",
    "periodos      = pd.period_range('2017-01', '2019-12', freq='M').strftime('%Y%m').astype(int)\n",
    "productos_list= sell_in_agg['product_id'].unique()\n",
    "df_univ       = pd.MultiIndex.from_product(\n",
    "                    [periodos, productos_list],\n",
    "                    names=['periodo','product_id']\n",
    "                 ).to_frame(index=False)\n",
    "\n",
    "sell_in_agg = (\n",
    "    df_univ\n",
    "    .merge(sell_in_agg, on=['periodo','product_id'], how='left')\n",
    "    .fillna({\n",
    "        'tn':                    0,\n",
    "        'cust_request_qty':      0,\n",
    "        'cust_request_tn':       0,\n",
    "        'plan_precios_cuidados': False,\n",
    "        'n_customers':           0\n",
    "    })\n",
    ")"
   ]
  },
  {
   "cell_type": "code",
   "execution_count": 10,
   "metadata": {},
   "outputs": [
    {
     "name": "stdout",
     "output_type": "stream",
     "text": [
      "🔄 Limpiando y verificando catálogo de productos...\n"
     ]
    }
   ],
   "source": [
    "# 7) Limpieza de catálogo y verificación\n",
    "print(\"🔄 Limpiando y verificando catálogo de productos...\")\n",
    "productos_clean = (\n",
    "    productos\n",
    "    .drop_duplicates()\n",
    "    .groupby('product_id', as_index=False)\n",
    "    .agg({\n",
    "        'cat1': 'first',\n",
    "        'cat2': 'first',\n",
    "        'cat3': lambda x: ','.join(sorted(set(x))),\n",
    "        'brand':'first',\n",
    "        'sku_size':'first'\n",
    "    })\n",
    ")\n",
    "assert productos_clean['product_id'].is_unique, \\\n",
    "    \"❌ Duplicados en productos_clean\"\n",
    "assert stock[['periodo','product_id']].drop_duplicates().shape[0] \\\n",
    "       == stock.shape[0], \"❌ Duplicados en stock\""
   ]
  },
  {
   "cell_type": "code",
   "execution_count": 11,
   "metadata": {},
   "outputs": [
    {
     "name": "stdout",
     "output_type": "stream",
     "text": [
      "🔄 Haciendo merge final...\n"
     ]
    }
   ],
   "source": [
    "# 8) Merge final de tablas\n",
    "print(\"🔄 Haciendo merge final...\")\n",
    "df_prod = sell_in_agg[sell_in_agg['product_id'].isin(productos_pred['product_id'])]\n",
    "df_prod = df_prod.merge(productos_clean, on='product_id', how='left')\n",
    "df_prod = df_prod.merge(stock,           on=['periodo','product_id'], how='left')\n",
    "\n",
    "for col in ['cat1','cat2','cat3','brand']:\n",
    "    df_prod[col] = df_prod[col].astype('category')"
   ]
  },
  {
   "cell_type": "code",
   "execution_count": 12,
   "metadata": {},
   "outputs": [
    {
     "name": "stdout",
     "output_type": "stream",
     "text": [
      "🔄 Creando columna 'target' (tn a dos meses vista)...\n"
     ]
    }
   ],
   "source": [
    "# 9) Creación del target\n",
    "print(\"🔄 Creando columna 'target' (tn a dos meses vista)...\")\n",
    "df_prod = df_prod.sort_values(['product_id','periodo'])\n",
    "df_prod['target'] = df_prod.groupby('product_id')['tn'].shift(-2)"
   ]
  },
  {
   "cell_type": "code",
   "execution_count": 13,
   "metadata": {},
   "outputs": [
    {
     "name": "stdout",
     "output_type": "stream",
     "text": [
      "🔄 Guardando resultados en Drive como CSV...\n",
      "✅ Procesamiento completado.\n",
      "ℹ️ Archivo CSV guardado en: /Users/indianaabeledo/Documents/Maestria/laboratorio_III/entrega_final/intermedios/df_limpio_product_id.csv\n"
     ]
    }
   ],
   "source": [
    "#10) Guardado de resultados en Drive (CSV sin compresión)\n",
    "print(\"🔄 Guardando resultados en Drive como CSV...\")\n",
    "df_prod.to_csv(\n",
    "    os.path.join(INTERMEDIOS, \"df_limpio_product_id.csv\"),\n",
    "    index=False\n",
    ")\n",
    "\n",
    "print(\"✅ Procesamiento completado.\")\n",
    "print(\"ℹ️ Archivo CSV guardado en:\", os.path.join(INTERMEDIOS, \"df_limpio_product_id.csv\"))"
   ]
  }
 ],
 "metadata": {
  "kernelspec": {
   "display_name": "Python 3",
   "language": "python",
   "name": "python3"
  },
  "language_info": {
   "codemirror_mode": {
    "name": "ipython",
    "version": 3
   },
   "file_extension": ".py",
   "mimetype": "text/x-python",
   "name": "python",
   "nbconvert_exporter": "python",
   "pygments_lexer": "ipython3",
   "version": "3.9.6"
  }
 },
 "nbformat": 4,
 "nbformat_minor": 2
}
