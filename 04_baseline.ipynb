{
 "cells": [
  {
   "cell_type": "markdown",
   "metadata": {},
   "source": [
    "# Baseline"
   ]
  },
  {
   "cell_type": "code",
   "execution_count": 1,
   "metadata": {},
   "outputs": [],
   "source": [
    "import pandas as pd\n",
    "import numpy as np\n",
    "import matplotlib.pyplot as plt\n",
    "from utils import *"
   ]
  },
  {
   "cell_type": "code",
   "execution_count": 2,
   "metadata": {},
   "outputs": [],
   "source": [
    "# df = pd.read_csv('df_with_target_and_features.csv', sep='\\t')\n",
    "# df.shape"
   ]
  },
  {
   "cell_type": "code",
   "execution_count": 3,
   "metadata": {},
   "outputs": [],
   "source": [
    "# pip install polars"
   ]
  },
  {
   "cell_type": "code",
   "execution_count": 4,
   "metadata": {},
   "outputs": [
    {
     "data": {
      "text/plain": [
       "(7781619, 354)"
      ]
     },
     "execution_count": 4,
     "metadata": {},
     "output_type": "execute_result"
    }
   ],
   "source": [
    "import polars as pl\n",
    "\n",
    "df = pl.read_csv('df_with_target_and_features.csv', separator='\\t')\n",
    "df.shape  # Devuelve (filas, columnas)"
   ]
  },
  {
   "cell_type": "code",
   "execution_count": 5,
   "metadata": {},
   "outputs": [
    {
     "data": {
      "text/html": [
       "<div><style>\n",
       ".dataframe > thead > tr,\n",
       ".dataframe > tbody > tr {\n",
       "  text-align: right;\n",
       "  white-space: pre-wrap;\n",
       "}\n",
       "</style>\n",
       "<small>shape: (5, 354)</small><table border=\"1\" class=\"dataframe\"><thead><tr><th>period</th><th>product_id</th><th>customer_id</th><th>tn</th><th>target</th><th>periodo</th><th>year</th><th>month</th><th>days_in_month</th><th>semester</th><th>quarter</th><th>month_q</th><th>period_ordinal</th><th>month_sin</th><th>month_cos</th><th>quarter_sin</th><th>quarter_cos</th><th>period_ordinal_sin</th><th>period_ordinal_cos</th><th>is_summer</th><th>is_winter</th><th>pre_march</th><th>pre_october</th><th>cat1_FOODS</th><th>cat1_HC</th><th>cat1_PC</th><th>cat1_REF</th><th>tn_lag1</th><th>tn_lag2</th><th>tn_lag3</th><th>tn_lag4</th><th>tn_lag5</th><th>tn_lag6</th><th>tn_lag7</th><th>tn_lag8</th><th>tn_lag9</th><th>tn_lag10</th><th>&hellip;</th><th>tn_rel_delta5</th><th>tn_delta6</th><th>tn_rel_delta6</th><th>tn_delta7</th><th>tn_rel_delta7</th><th>tn_delta8</th><th>tn_rel_delta8</th><th>tn_delta9</th><th>tn_rel_delta9</th><th>tn_delta10</th><th>tn_rel_delta10</th><th>tn_delta11</th><th>tn_rel_delta11</th><th>tn_delta12</th><th>tn_rel_delta12</th><th>tn_accel1</th><th>tn_accel2</th><th>tn_accel3</th><th>tn_accel4</th><th>tn_accel5</th><th>tn_accel6</th><th>tn_accel7</th><th>tn_accel8</th><th>tn_accel9</th><th>tn_accel10</th><th>tn_accel11</th><th>tn_trend_slope2</th><th>tn_trend_slope3</th><th>tn_trend_slope6</th><th>tn_trend_slope9</th><th>tn_trend_slope12</th><th>tn_trend_slope18</th><th>tn_trend_slope24</th><th>tn_trend_slope36</th><th>tn_vs_ma12</th><th>no_sale</th><th>no_sale_streak</th></tr><tr><td>str</td><td>i64</td><td>i64</td><td>f64</td><td>f64</td><td>str</td><td>i64</td><td>i64</td><td>i64</td><td>i64</td><td>i64</td><td>i64</td><td>i64</td><td>f64</td><td>f64</td><td>f64</td><td>f64</td><td>f64</td><td>f64</td><td>i64</td><td>i64</td><td>i64</td><td>i64</td><td>f64</td><td>f64</td><td>f64</td><td>f64</td><td>f64</td><td>f64</td><td>f64</td><td>f64</td><td>f64</td><td>f64</td><td>f64</td><td>f64</td><td>f64</td><td>f64</td><td>&hellip;</td><td>f64</td><td>f64</td><td>f64</td><td>f64</td><td>f64</td><td>f64</td><td>f64</td><td>f64</td><td>f64</td><td>f64</td><td>f64</td><td>f64</td><td>f64</td><td>f64</td><td>f64</td><td>f64</td><td>f64</td><td>f64</td><td>f64</td><td>f64</td><td>f64</td><td>f64</td><td>f64</td><td>f64</td><td>f64</td><td>f64</td><td>f64</td><td>f64</td><td>f64</td><td>f64</td><td>f64</td><td>f64</td><td>f64</td><td>f64</td><td>f64</td><td>i64</td><td>i64</td></tr></thead><tbody><tr><td>&quot;2017-01&quot;</td><td>20001</td><td>10001</td><td>99.43861</td><td>92.46537</td><td>&quot;2017-01&quot;</td><td>2017</td><td>1</td><td>31</td><td>1</td><td>1</td><td>1</td><td>1</td><td>0.5</td><td>0.866025</td><td>1.0</td><td>6.1232e-17</td><td>0.173648</td><td>0.984808</td><td>1</td><td>0</td><td>0</td><td>0</td><td>0.0</td><td>1.0</td><td>0.0</td><td>0.0</td><td>null</td><td>null</td><td>null</td><td>null</td><td>null</td><td>null</td><td>null</td><td>null</td><td>null</td><td>null</td><td>&hellip;</td><td>null</td><td>null</td><td>null</td><td>null</td><td>null</td><td>null</td><td>null</td><td>null</td><td>null</td><td>null</td><td>null</td><td>null</td><td>null</td><td>null</td><td>null</td><td>null</td><td>null</td><td>null</td><td>null</td><td>null</td><td>null</td><td>null</td><td>null</td><td>null</td><td>null</td><td>null</td><td>null</td><td>null</td><td>null</td><td>null</td><td>null</td><td>null</td><td>null</td><td>null</td><td>0.0</td><td>0</td><td>0</td></tr><tr><td>&quot;2017-02&quot;</td><td>20001</td><td>10001</td><td>198.84365</td><td>13.29728</td><td>&quot;2017-02&quot;</td><td>2017</td><td>2</td><td>28</td><td>1</td><td>1</td><td>2</td><td>2</td><td>0.866025</td><td>0.5</td><td>1.0</td><td>6.1232e-17</td><td>0.34202</td><td>0.939693</td><td>1</td><td>0</td><td>1</td><td>0</td><td>0.0</td><td>1.0</td><td>0.0</td><td>0.0</td><td>99.43861</td><td>null</td><td>null</td><td>null</td><td>null</td><td>null</td><td>null</td><td>null</td><td>null</td><td>null</td><td>&hellip;</td><td>null</td><td>null</td><td>null</td><td>null</td><td>null</td><td>null</td><td>null</td><td>null</td><td>null</td><td>null</td><td>null</td><td>null</td><td>null</td><td>null</td><td>null</td><td>null</td><td>null</td><td>null</td><td>null</td><td>null</td><td>null</td><td>null</td><td>null</td><td>null</td><td>null</td><td>null</td><td>99.40504</td><td>null</td><td>null</td><td>null</td><td>null</td><td>null</td><td>null</td><td>null</td><td>49.70252</td><td>0</td><td>0</td></tr><tr><td>&quot;2017-03&quot;</td><td>20001</td><td>10001</td><td>92.46537</td><td>101.00563</td><td>&quot;2017-03&quot;</td><td>2017</td><td>3</td><td>31</td><td>1</td><td>1</td><td>3</td><td>3</td><td>1.0</td><td>6.1232e-17</td><td>1.0</td><td>6.1232e-17</td><td>0.5</td><td>0.866025</td><td>0</td><td>0</td><td>0</td><td>0</td><td>0.0</td><td>1.0</td><td>0.0</td><td>0.0</td><td>198.84365</td><td>99.43861</td><td>null</td><td>null</td><td>null</td><td>null</td><td>null</td><td>null</td><td>null</td><td>null</td><td>&hellip;</td><td>null</td><td>null</td><td>null</td><td>null</td><td>null</td><td>null</td><td>null</td><td>null</td><td>null</td><td>null</td><td>null</td><td>null</td><td>null</td><td>null</td><td>null</td><td>-99.40504</td><td>null</td><td>null</td><td>null</td><td>null</td><td>null</td><td>null</td><td>null</td><td>null</td><td>null</td><td>null</td><td>-106.37828</td><td>-3.48662</td><td>null</td><td>null</td><td>null</td><td>null</td><td>null</td><td>null</td><td>-37.78384</td><td>0</td><td>0</td></tr><tr><td>&quot;2017-04&quot;</td><td>20001</td><td>10001</td><td>13.29728</td><td>128.04792</td><td>&quot;2017-04&quot;</td><td>2017</td><td>4</td><td>30</td><td>1</td><td>2</td><td>1</td><td>4</td><td>0.866025</td><td>-0.5</td><td>1.2246e-16</td><td>-1.0</td><td>0.642788</td><td>0.766044</td><td>0</td><td>0</td><td>0</td><td>0</td><td>0.0</td><td>1.0</td><td>0.0</td><td>0.0</td><td>92.46537</td><td>198.84365</td><td>99.43861</td><td>null</td><td>null</td><td>null</td><td>null</td><td>null</td><td>null</td><td>null</td><td>&hellip;</td><td>null</td><td>null</td><td>null</td><td>null</td><td>null</td><td>null</td><td>null</td><td>null</td><td>null</td><td>null</td><td>null</td><td>null</td><td>null</td><td>null</td><td>null</td><td>106.37828</td><td>-99.40504</td><td>null</td><td>null</td><td>null</td><td>null</td><td>null</td><td>null</td><td>null</td><td>null</td><td>null</td><td>-79.16809</td><td>-92.773185</td><td>null</td><td>null</td><td>null</td><td>null</td><td>null</td><td>null</td><td>-87.713947</td><td>0</td><td>0</td></tr><tr><td>&quot;2017-05&quot;</td><td>20001</td><td>10001</td><td>101.00563</td><td>101.20711</td><td>&quot;2017-05&quot;</td><td>2017</td><td>5</td><td>31</td><td>1</td><td>2</td><td>2</td><td>5</td><td>0.5</td><td>-0.866025</td><td>1.2246e-16</td><td>-1.0</td><td>0.766044</td><td>0.642788</td><td>0</td><td>0</td><td>0</td><td>0</td><td>0.0</td><td>1.0</td><td>0.0</td><td>0.0</td><td>13.29728</td><td>92.46537</td><td>198.84365</td><td>99.43861</td><td>null</td><td>null</td><td>null</td><td>null</td><td>null</td><td>null</td><td>&hellip;</td><td>null</td><td>null</td><td>null</td><td>null</td><td>null</td><td>null</td><td>null</td><td>null</td><td>null</td><td>null</td><td>null</td><td>null</td><td>null</td><td>null</td><td>null</td><td>79.16809</td><td>106.37828</td><td>-99.40504</td><td>null</td><td>null</td><td>null</td><td>null</td><td>null</td><td>null</td><td>null</td><td>null</td><td>87.70835</td><td>4.27013</td><td>null</td><td>null</td><td>null</td><td>null</td><td>null</td><td>null</td><td>-0.004478</td><td>0</td><td>0</td></tr></tbody></table></div>"
      ],
      "text/plain": [
       "shape: (5, 354)\n",
       "┌─────────┬────────────┬────────────┬───────────┬───┬────────────┬───────────┬─────────┬───────────┐\n",
       "│ period  ┆ product_id ┆ customer_i ┆ tn        ┆ … ┆ tn_trend_s ┆ tn_vs_ma1 ┆ no_sale ┆ no_sale_s │\n",
       "│ ---     ┆ ---        ┆ d          ┆ ---       ┆   ┆ lope36     ┆ 2         ┆ ---     ┆ treak     │\n",
       "│ str     ┆ i64        ┆ ---        ┆ f64       ┆   ┆ ---        ┆ ---       ┆ i64     ┆ ---       │\n",
       "│         ┆            ┆ i64        ┆           ┆   ┆ f64        ┆ f64       ┆         ┆ i64       │\n",
       "╞═════════╪════════════╪════════════╪═══════════╪═══╪════════════╪═══════════╪═════════╪═══════════╡\n",
       "│ 2017-01 ┆ 20001      ┆ 10001      ┆ 99.43861  ┆ … ┆ null       ┆ 0.0       ┆ 0       ┆ 0         │\n",
       "│ 2017-02 ┆ 20001      ┆ 10001      ┆ 198.84365 ┆ … ┆ null       ┆ 49.70252  ┆ 0       ┆ 0         │\n",
       "│ 2017-03 ┆ 20001      ┆ 10001      ┆ 92.46537  ┆ … ┆ null       ┆ -37.78384 ┆ 0       ┆ 0         │\n",
       "│ 2017-04 ┆ 20001      ┆ 10001      ┆ 13.29728  ┆ … ┆ null       ┆ -87.71394 ┆ 0       ┆ 0         │\n",
       "│         ┆            ┆            ┆           ┆   ┆            ┆ 7         ┆         ┆           │\n",
       "│ 2017-05 ┆ 20001      ┆ 10001      ┆ 101.00563 ┆ … ┆ null       ┆ -0.004478 ┆ 0       ┆ 0         │\n",
       "└─────────┴────────────┴────────────┴───────────┴───┴────────────┴───────────┴─────────┴───────────┘"
      ]
     },
     "execution_count": 5,
     "metadata": {},
     "output_type": "execute_result"
    }
   ],
   "source": [
    "df.head()"
   ]
  },
  {
   "cell_type": "code",
   "execution_count": 6,
   "metadata": {},
   "outputs": [],
   "source": [
    "# df['target_ratio'] = df['tn'] / (df['target'] + 1e-6)  # clase = tn+2\n",
    "df = df.with_columns(\n",
    "    (pl.col('tn') / (pl.col('target') + 1e-6)).alias('target_ratio')\n",
    ")"
   ]
  },
  {
   "cell_type": "code",
   "execution_count": 7,
   "metadata": {},
   "outputs": [],
   "source": [
    "# df['period'] = pd.to_datetime(df['period'], format='%Y-%m').dt.to_period('M')\n",
    "df = df.with_columns(\n",
    "    pl.col('period').str.strptime(pl.Date, format='%Y-%m').alias('period_dt')\n",
    ")"
   ]
  },
  {
   "cell_type": "markdown",
   "metadata": {},
   "source": [
    "### Split temporal"
   ]
  },
  {
   "cell_type": "code",
   "execution_count": 8,
   "metadata": {},
   "outputs": [],
   "source": [
    "# # Excluir columnas no numéricas y no predictoras: 'period', 'product_id', 'customer_id', 'periodo'\n",
    "# exclude_cols = ['period', 'customer_id', 'periodo', 'target','share_cliente']# 'product_id', #,'share_producto']#,'tn_pct_change1', 'tn_pct_change6', 'tn_pct_change9']\n",
    "# features = [col for col in df.columns if col not in exclude_cols and df[col].dtype in [np.float64, np.int64]]\n",
    "\n",
    "exclude_cols = ['period', 'customer_id', 'periodo', 'target', 'target_ratio', 'share_cliente']  # tu lista\n",
    "\n",
    "# Seleccionamos columnas numéricas no excluidas\n",
    "features = [\n",
    "    col\n",
    "    for col, dtype in zip(df.columns, df.dtypes)\n",
    "    if (col not in exclude_cols) and (dtype in [pl.Float64, pl.Int64])\n",
    "]"
   ]
  },
  {
   "cell_type": "code",
   "execution_count": 9,
   "metadata": {},
   "outputs": [
    {
     "ename": "",
     "evalue": "",
     "output_type": "error",
     "traceback": [
      "\u001b[1;31mThe Kernel crashed while executing code in the current cell or a previous cell. \n",
      "\u001b[1;31mPlease review the code in the cell(s) to identify a possible cause of the failure. \n",
      "\u001b[1;31mClick <a href='https://aka.ms/vscodeJupyterKernelCrash'>here</a> for more info. \n",
      "\u001b[1;31mView Jupyter <a href='command:jupyter.viewOutput'>log</a> for further details."
     ]
    }
   ],
   "source": [
    "# # Train son periodos 1 a 30, test son 31 a 36\n",
    "# df_train = df['period_ordinal'] <= 30\n",
    "# df_test = df['period_ordinal'] > 30\n",
    "\n",
    "# X_train = df[df_train[features]]\n",
    "# y_train = df[df_train]['target_column']\n",
    "\n",
    "# X_test = df[df_test[features]]\n",
    "# y_test = df[df_test]['target_column']\n",
    "\n",
    "# Train: period_ordinal <= 30\n",
    "df_train = df.filter(pl.col('period_ordinal') <= 30)\n",
    "X_train = df_train.select(features)\n",
    "y_train = df_train['target_ratio']\n",
    "\n",
    "# Test: period_ordinal > 30\n",
    "df_test = df.filter(pl.col('period_ordinal') > 30)\n",
    "X_test = df_test.select(features)\n",
    "y_test = df_test['target_ratio']"
   ]
  },
  {
   "cell_type": "markdown",
   "metadata": {},
   "source": [
    "# Baseline Model"
   ]
  },
  {
   "cell_type": "code",
   "execution_count": null,
   "metadata": {},
   "outputs": [],
   "source": [
    "# import lightgbm as lgb\n",
    "# from sklearn.metrics import mean_absolute_error, mean_squared_error\n",
    "\n",
    "# # 1. Entrenamiento con hiperparámetros default (o simples)\n",
    "# params = {\n",
    "#     \"objective\": \"regression\",\n",
    "#     \"metric\": \"mae\",\n",
    "#     \"verbosity\": -1,\n",
    "#     \"boosting_type\": \"gbdt\",\n",
    "#     \"random_state\": 42\n",
    "# }\n",
    "\n",
    "# dtrain = lgb.Dataset(X_train, label=y_train)\n",
    "# dvalid = lgb.Dataset(X_test, label=y_test)\n",
    "\n",
    "# # Entrenar modelo baseline\n",
    "# model = lgb.train(\n",
    "#     params,\n",
    "#     dtrain,\n",
    "#     num_boost_round=1000,\n",
    "#     valid_sets=[dtrain, dvalid],\n",
    "#     early_stopping_rounds=30,\n",
    "#     verbose_eval=50\n",
    "# )\n",
    "\n",
    "# # 2. Predicciones y métricas\n",
    "# train_pred = model.predict(X_train)\n",
    "# test_pred = model.predict(X_test)\n",
    "\n",
    "# mae_train = mean_absolute_error(y_train, train_pred)\n",
    "# mae_test = mean_absolute_error(y_test, test_pred)\n",
    "# rmse_train = mean_squared_error(y_train, train_pred, squared=False)\n",
    "# rmse_test = mean_squared_error(y_test, test_pred, squared=False)\n",
    "\n",
    "# print(f\"Train MAE: {mae_train:.3f} | RMSE: {rmse_train:.3f}\")\n",
    "# print(f\"Test  MAE: {mae_test:.3f} | RMSE: {rmse_test:.3f}\")\n",
    "\n",
    "# # Supongamos que ya entrenaste el modelo y tenés X_test, df_test\n",
    "\n",
    "# ratio_test_pred = model.predict(X_test)\n",
    "\n",
    "# ratio_train_pred = model.predict(X_train)\n",
    "\n",
    "# tn_pred_test = X_test['tn'] / (ratio_test_pred + 1e-6)   # <--- Inversión\n",
    "# df_test['tn_pred'] = tn_pred_test\n",
    "\n",
    "# tn_pred_train = X_train['tn'] / (ratio_train_pred + 1e-6)   # <--- Inversión\n",
    "# df_train['tn_pred'] = tn_pred_train\n",
    "\n",
    "# # Métrica en términos reales\n",
    "# y_test_real = df_test['clase']  # tn+2 real\n",
    "# y_train_real = df_train['clase']  # tn+2 real\n",
    "\n",
    "# mae = mean_absolute_error(y_test_real, tn_pred_test)\n",
    "# rmse = mean_squared_error(y_test_real, tn_pred_test, squared=False)\n",
    "\n",
    "# print(f\"Test MAE (tn+2): {mae:.3f} | RMSE (tn+2): {rmse:.3f}\")"
   ]
  },
  {
   "cell_type": "code",
   "execution_count": 10,
   "metadata": {},
   "outputs": [],
   "source": [
    "# Convertir a numpy/pandas\n",
    "X_train_np = X_train.to_numpy()\n",
    "y_train_np = y_train.to_numpy()\n",
    "X_test_np = X_test.to_numpy()\n",
    "y_test_np = y_test.to_numpy()"
   ]
  },
  {
   "cell_type": "code",
   "execution_count": null,
   "metadata": {},
   "outputs": [],
   "source": [
    "import lightgbm as lgb\n",
    "from sklearn.metrics import mean_absolute_error, mean_squared_error\n",
    "\n",
    "# 1. Entrenamiento con hiperparámetros default (o simples)\n",
    "params = {\n",
    "    \"objective\": \"regression\",\n",
    "    \"metric\": \"mae\",\n",
    "    \"verbosity\": -1,\n",
    "    \"boosting_type\": \"gbdt\",\n",
    "    \"random_state\": 42\n",
    "}\n",
    "\n",
    "dtrain = lgb.Dataset(X_train_np, label=y_train_np)\n",
    "dvalid = lgb.Dataset(X_test_np, label=y_test_np)\n",
    "\n",
    "# Entrenar modelo baseline\n",
    "model = lgb.train(\n",
    "    params,\n",
    "    dtrain,\n",
    "    num_boost_round=1000,\n",
    "    valid_sets=[dtrain, dvalid],\n",
    "    early_stopping_rounds=30,\n",
    "    verbose_eval=50\n",
    ")"
   ]
  },
  {
   "cell_type": "code",
   "execution_count": 10,
   "metadata": {},
   "outputs": [
    {
     "ename": "",
     "evalue": "",
     "output_type": "error",
     "traceback": [
      "\u001b[1;31mThe Kernel crashed while executing code in the current cell or a previous cell. \n",
      "\u001b[1;31mPlease review the code in the cell(s) to identify a possible cause of the failure. \n",
      "\u001b[1;31mClick <a href='https://aka.ms/vscodeJupyterKernelCrash'>here</a> for more info. \n",
      "\u001b[1;31mView Jupyter <a href='command:jupyter.viewOutput'>log</a> for further details."
     ]
    }
   ],
   "source": [
    "import lightgbm as lgb\n",
    "from sklearn.metrics import mean_absolute_error, mean_squared_error\n",
    "\n",
    "# 1. Entrenamiento con hiperparámetros default (o simples)\n",
    "params = {\n",
    "    \"objective\": \"regression\",\n",
    "    \"metric\": \"mae\",\n",
    "    \"verbosity\": -1,\n",
    "    \"boosting_type\": \"gbdt\",\n",
    "    \"random_state\": 42\n",
    "}\n",
    "\n",
    "dtrain = lgb.Dataset(X_train_np, label=y_train_np)\n",
    "dvalid = lgb.Dataset(X_test_np, label=y_test_np)\n",
    "\n",
    "# Entrenar modelo baseline\n",
    "model = lgb.train(\n",
    "    params,\n",
    "    dtrain,\n",
    "    num_boost_round=1000,\n",
    "    valid_sets=[dtrain, dvalid],\n",
    "    early_stopping_rounds=30,\n",
    "    verbose_eval=50\n",
    ")\n",
    "\n",
    "# 2. Predicciones y métricas (ratios)\n",
    "train_pred = model.predict(X_train_np)\n",
    "test_pred = model.predict(X_test_np)\n",
    "\n",
    "mae_train = mean_absolute_error(y_train_np, train_pred)\n",
    "mae_test = mean_absolute_error(y_test_np, test_pred)\n",
    "rmse_train = mean_squared_error(y_train_np, train_pred, squared=False)\n",
    "rmse_test = mean_squared_error(y_test_np, test_pred, squared=False)\n",
    "\n",
    "print(f\"Train MAE: {mae_train:.3f} | RMSE: {rmse_train:.3f}\")\n",
    "print(f\"Test  MAE: {mae_test:.3f} | RMSE: {rmse_test:.3f}\")\n",
    "\n",
    "# 3. Inversión para obtener tn+2 predicho\n",
    "tn_pred_test = X_test['tn'].to_numpy() / (test_pred + 1e-6)   # <--- Inversión\n",
    "tn_pred_train = X_train['tn'].to_numpy() / (train_pred + 1e-6)\n",
    "\n",
    "# Opcional: agregarlos como columna en tu Polars DataFrame\n",
    "df_test = df_test.with_columns(pl.Series('tn_pred', tn_pred_test))\n",
    "df_train = df_train.with_columns(pl.Series('tn_pred', tn_pred_train))\n",
    "\n",
    "# 4. Métrica en términos reales\n",
    "y_test_real = df_test['clase'].to_numpy()  # tn+2 real\n",
    "y_train_real = df_train['clase'].to_numpy()  # tn+2 real\n",
    "\n",
    "mae_real = mean_absolute_error(y_test_real, tn_pred_test)\n",
    "rmse_real = mean_squared_error(y_test_real, tn_pred_test, squared=False)\n",
    "\n",
    "print(f\"Test MAE (tn+2): {mae_real:.3f} | RMSE (tn+2): {rmse_real:.3f}\")"
   ]
  },
  {
   "cell_type": "code",
   "execution_count": null,
   "metadata": {},
   "outputs": [],
   "source": [
    "import matplotlib.pyplot as plt\n",
    "\n",
    "# Si es periodo tipo Period, lo convertís a string para el eje X\n",
    "df_test['periodo_str'] = df_test['periodo'].astype(str)\n",
    "\n",
    "plt.figure(figsize=(12, 6))\n",
    "plt.plot(df_test['periodo_str'], df_test['tn_real'], marker='o', label='TN Real')\n",
    "plt.plot(df_test['periodo_str'], df_test['tn_pred'], marker='s', label='TN Predicho')\n",
    "plt.title('Comparación TN Real vs. TN Predicho')\n",
    "plt.xlabel('Periodo')\n",
    "plt.ylabel('Toneladas')\n",
    "plt.xticks(rotation=45)\n",
    "plt.legend()\n",
    "plt.tight_layout()\n",
    "plt.grid(True)\n",
    "plt.show()"
   ]
  },
  {
   "cell_type": "code",
   "execution_count": 16,
   "metadata": {},
   "outputs": [
    {
     "name": "stdout",
     "output_type": "stream",
     "text": [
      "\n",
      "Top 10 features más importantes:\n",
      "       feature  importance\n",
      "tn_pct_change6         417\n",
      "tn_pct_change1         406\n",
      "tn_pct_change9         344\n",
      "share_producto         328\n",
      "  tn_div_roll9         317\n",
      "  tn_div_roll3         270\n",
      "  tn_div_roll6         258\n",
      "            tn         228\n",
      "         month         201\n",
      "      prod_age         183\n"
     ]
    }
   ],
   "source": [
    "feature_importances = pd.DataFrame({\n",
    "    'feature': X_train.columns,\n",
    "    'importance': lgb.feature_importances_\n",
    "}).sort_values('importance', ascending=False)\n",
    "\n",
    "print(\"\\nTop 10 features más importantes:\")\n",
    "print(feature_importances.head(10).to_string(index=False))"
   ]
  },
  {
   "cell_type": "code",
   "execution_count": 17,
   "metadata": {},
   "outputs": [],
   "source": [
    "# 8) Reconstruir un DataFrame de validación con periodo, real y predicho\n",
    "#    Como X_valid lleva el mismo índice que df_train, podemos hacer:\n",
    "df_valid = df_train.loc[X_valid.index, ['period', 'product_id', 'customer_id', 'tn']]\n",
    "df_valid = df_valid.copy()  # para evitar SettingWithCopyWarning\n",
    "\n",
    "#      • 'tn' en df_train era, por ejemplo, tn_actual para ese mes. \n",
    "#        Si en tu esquema el valor real que quieres graficar es distinto, usa la columna correcta.\n",
    "df_valid['tn_pred'] = y_pred\n",
    "df_valid['tn_actual'] = df_valid['tn']  # renombramos para tener claridad\n",
    "df_valid.drop(columns=['tn'], inplace=True)"
   ]
  },
  {
   "cell_type": "code",
   "execution_count": 134,
   "metadata": {},
   "outputs": [],
   "source": [
    "# 9) Agrupar por mes (Period) y sumar tn_actual y tn_pred\n",
    "df_monthly = (\n",
    "    df_valid\n",
    "    .groupby('period')\n",
    "    .agg(\n",
    "        actual = ('tn_actual', 'sum'),\n",
    "        pred   = ('tn_pred',   'sum')\n",
    "    )\n",
    "    .reset_index()\n",
    ")"
   ]
  },
  {
   "cell_type": "code",
   "execution_count": 126,
   "metadata": {},
   "outputs": [
    {
     "data": {
      "image/png": "[encoded data removed]",
      "text/plain": [
       "<Figure size 1000x500 with 1 Axes>"
      ]
     },
     "metadata": {},
     "output_type": "display_data"
    }
   ],
   "source": [
    "# 10) Convertir Period a datetime para graficar en el eje X\n",
    "df_monthly['fecha'] = df_monthly['period'].dt.to_timestamp()\n",
    "\n",
    "# 11) Graficar ventas reales vs. predichas\n",
    "plt.figure(figsize=(10,5))\n",
    "plt.plot(df_monthly['fecha'], df_monthly['actual'],  marker='o', label='Ventas reales')\n",
    "plt.plot(df_monthly['fecha'], df_monthly['pred'],    marker='o', label='Ventas predichas')\n",
    "plt.title('Ventas reales vs. predichas (toneladas) por mes en conjunto de validación')\n",
    "plt.xlabel('Mes')\n",
    "plt.ylabel('Toneladas')\n",
    "plt.xticks(rotation=45)\n",
    "plt.legend()\n",
    "plt.tight_layout()\n",
    "plt.show()"
   ]
  },
  {
   "cell_type": "code",
   "execution_count": 108,
   "metadata": {},
   "outputs": [],
   "source": [
    "# 1) Filtrar solo las filas de diciembre 2019 (periodo justo dos meses antes de 2020-02).\n",
    "df_test = df[df['period'] == pd.Period('2019-12', freq='M')].copy()\n",
    "\n",
    "# 2) Asegurarnos de que df_test tenga exactamente las mismas features que el modelo espera\n",
    "#    (es decir, la lista “features” que usaste para entrenar).\n",
    "X_test = df_test[features]\n",
    "\n",
    "# 3) Llamar a model.predict() para obtener la predicción de tn en 2020-02\n",
    "#    Usamos best_iteration_ si implementaste early_stopping\n",
    "y_pred_202002 = lgb_model.predict(X_test, num_iteration=lgb_model.best_iteration_)\n",
    "\n",
    "# 4) Construir el DataFrame de salida con “periodo=2020-02”\n",
    "df_pred_final = pd.DataFrame({\n",
    "    'periodo': '2020-02',                      # todos iguales\n",
    "    'product_id': df_test['product_id'].values,\n",
    "    'customer_id': df_test['customer_id'].values,\n",
    "    'tn_actual': df_test['tn'].values,         # valores reales de tn en diciembre 2019\n",
    "    'prediccion_toneladas': y_pred_202002                    # predicciones\n",
    "})"
   ]
  },
  {
   "cell_type": "code",
   "execution_count": 41,
   "metadata": {},
   "outputs": [
    {
     "data": {
      "text/html": [
       "<div>\n",
       "<style scoped>\n",
       "    .dataframe tbody tr th:only-of-type {\n",
       "        vertical-align: middle;\n",
       "    }\n",
       "\n",
       "    .dataframe tbody tr th {\n",
       "        vertical-align: top;\n",
       "    }\n",
       "\n",
       "    .dataframe thead th {\n",
       "        text-align: right;\n",
       "    }\n",
       "</style>\n",
       "<table border=\"1\" class=\"dataframe\">\n",
       "  <thead>\n",
       "    <tr style=\"text-align: right;\">\n",
       "      <th></th>\n",
       "      <th>periodo</th>\n",
       "      <th>product_id</th>\n",
       "      <th>customer_id</th>\n",
       "      <th>tn_actual</th>\n",
       "      <th>prediccion_toneladas</th>\n",
       "    </tr>\n",
       "  </thead>\n",
       "  <tbody>\n",
       "    <tr>\n",
       "      <th>0</th>\n",
       "      <td>2020-02</td>\n",
       "      <td>20001</td>\n",
       "      <td>10001</td>\n",
       "      <td>180.21938</td>\n",
       "      <td>186.524143</td>\n",
       "    </tr>\n",
       "    <tr>\n",
       "      <th>1</th>\n",
       "      <td>2020-02</td>\n",
       "      <td>20001</td>\n",
       "      <td>10002</td>\n",
       "      <td>113.33165</td>\n",
       "      <td>35.724231</td>\n",
       "    </tr>\n",
       "    <tr>\n",
       "      <th>2</th>\n",
       "      <td>2020-02</td>\n",
       "      <td>20001</td>\n",
       "      <td>10003</td>\n",
       "      <td>102.27517</td>\n",
       "      <td>128.222175</td>\n",
       "    </tr>\n",
       "    <tr>\n",
       "      <th>3</th>\n",
       "      <td>2020-02</td>\n",
       "      <td>20001</td>\n",
       "      <td>10004</td>\n",
       "      <td>34.64810</td>\n",
       "      <td>100.691101</td>\n",
       "    </tr>\n",
       "    <tr>\n",
       "      <th>4</th>\n",
       "      <td>2020-02</td>\n",
       "      <td>20001</td>\n",
       "      <td>10005</td>\n",
       "      <td>19.60368</td>\n",
       "      <td>10.024324</td>\n",
       "    </tr>\n",
       "  </tbody>\n",
       "</table>\n",
       "</div>"
      ],
      "text/plain": [
       "   periodo  product_id  customer_id  tn_actual  prediccion_toneladas\n",
       "0  2020-02       20001        10001  180.21938            186.524143\n",
       "1  2020-02       20001        10002  113.33165             35.724231\n",
       "2  2020-02       20001        10003  102.27517            128.222175\n",
       "3  2020-02       20001        10004   34.64810            100.691101\n",
       "4  2020-02       20001        10005   19.60368             10.024324"
      ]
     },
     "execution_count": 41,
     "metadata": {},
     "output_type": "execute_result"
    }
   ],
   "source": [
    "df_pred_final.head()"
   ]
  },
  {
   "cell_type": "code",
   "execution_count": 42,
   "metadata": {},
   "outputs": [
    {
     "name": "stdout",
     "output_type": "stream",
     "text": [
      "CSV generado y listo para descargar\n",
      "Forma final: (780, 2)\n"
     ]
    }
   ],
   "source": [
    "df_entrega = (\n",
    "    df_pred_final\n",
    "    .groupby('product_id', as_index=False)['prediccion_toneladas']\n",
    "    .sum()\n",
    ")\n",
    "\n",
    "df_entrega.to_csv('df_baseline_pred_01.csv', index=False)\n",
    "\n",
    "print(\"CSV generado y listo para descargar\")\n",
    "print(f\"Forma final: {df_entrega.shape}\")"
   ]
  },
  {
   "cell_type": "code",
   "execution_count": 38,
   "metadata": {},
   "outputs": [
    {
     "data": {
      "text/html": [
       "<div>\n",
       "<style scoped>\n",
       "    .dataframe tbody tr th:only-of-type {\n",
       "        vertical-align: middle;\n",
       "    }\n",
       "\n",
       "    .dataframe tbody tr th {\n",
       "        vertical-align: top;\n",
       "    }\n",
       "\n",
       "    .dataframe thead th {\n",
       "        text-align: right;\n",
       "    }\n",
       "</style>\n",
       "<table border=\"1\" class=\"dataframe\">\n",
       "  <thead>\n",
       "    <tr style=\"text-align: right;\">\n",
       "      <th></th>\n",
       "      <th>product_id</th>\n",
       "      <th>prediccion_toneladas</th>\n",
       "    </tr>\n",
       "  </thead>\n",
       "  <tbody>\n",
       "    <tr>\n",
       "      <th>0</th>\n",
       "      <td>20001</td>\n",
       "      <td>1343.571845</td>\n",
       "    </tr>\n",
       "    <tr>\n",
       "      <th>1</th>\n",
       "      <td>20002</td>\n",
       "      <td>1068.312510</td>\n",
       "    </tr>\n",
       "    <tr>\n",
       "      <th>2</th>\n",
       "      <td>20003</td>\n",
       "      <td>714.957239</td>\n",
       "    </tr>\n",
       "    <tr>\n",
       "      <th>3</th>\n",
       "      <td>20004</td>\n",
       "      <td>575.261352</td>\n",
       "    </tr>\n",
       "    <tr>\n",
       "      <th>4</th>\n",
       "      <td>20005</td>\n",
       "      <td>643.540752</td>\n",
       "    </tr>\n",
       "  </tbody>\n",
       "</table>\n",
       "</div>"
      ],
      "text/plain": [
       "   product_id  prediccion_toneladas\n",
       "0       20001           1343.571845\n",
       "1       20002           1068.312510\n",
       "2       20003            714.957239\n",
       "3       20004            575.261352\n",
       "4       20005            643.540752"
      ]
     },
     "execution_count": 38,
     "metadata": {},
     "output_type": "execute_result"
    }
   ],
   "source": [
    "df_entrega.head()"
   ]
  },
  {
   "cell_type": "code",
   "execution_count": 18,
   "metadata": {},
   "outputs": [],
   "source": [
    "# 1) Filtrar solo las filas de diciembre 2019 (periodo justo dos meses antes de 2020-02).\n",
    "df_check = df[df['period'] == pd.Period('2019-10', freq='M')].copy()\n",
    "\n",
    "# 2) Asegurarnos de que df_test tenga exactamente las mismas features que el modelo espera\n",
    "#    (es decir, la lista “features” que usaste para entrenar).\n",
    "X_check = df_check[features]\n",
    "\n",
    "# 3) Llamar a model.predict() para obtener la predicción de tn en 2020-02\n",
    "#    Usamos best_iteration_ si implementaste early_stopping\n",
    "y_pred_201910 = lgb_model.predict(X_check, num_iteration=lgb_model.best_iteration_)\n",
    "\n",
    "# 4) Construir el DataFrame de salida con “periodo=2020-02”\n",
    "df_pred_final = pd.DataFrame({\n",
    "    'periodo': '2019-10',                      # todos iguales\n",
    "    'product_id': df_check['product_id'].values,\n",
    "    'customer_id': df_check['customer_id'].values,\n",
    "    'tn_real': df_check['tn'].values,         # valores reales de tn en diciembre 2019\n",
    "    'tn_predicho': y_pred_201910                    # predicciones\n",
    "})"
   ]
  },
  {
   "cell_type": "code",
   "execution_count": 19,
   "metadata": {},
   "outputs": [
    {
     "data": {
      "text/html": [
       "<div>\n",
       "<style scoped>\n",
       "    .dataframe tbody tr th:only-of-type {\n",
       "        vertical-align: middle;\n",
       "    }\n",
       "\n",
       "    .dataframe tbody tr th {\n",
       "        vertical-align: top;\n",
       "    }\n",
       "\n",
       "    .dataframe thead th {\n",
       "        text-align: right;\n",
       "    }\n",
       "</style>\n",
       "<table border=\"1\" class=\"dataframe\">\n",
       "  <thead>\n",
       "    <tr style=\"text-align: right;\">\n",
       "      <th></th>\n",
       "      <th>periodo</th>\n",
       "      <th>product_id</th>\n",
       "      <th>customer_id</th>\n",
       "      <th>tn_real</th>\n",
       "      <th>tn_predicho</th>\n",
       "    </tr>\n",
       "  </thead>\n",
       "  <tbody>\n",
       "    <tr>\n",
       "      <th>0</th>\n",
       "      <td>2019-10</td>\n",
       "      <td>20001</td>\n",
       "      <td>10001</td>\n",
       "      <td>176.02980</td>\n",
       "      <td>165.651189</td>\n",
       "    </tr>\n",
       "    <tr>\n",
       "      <th>1</th>\n",
       "      <td>2019-10</td>\n",
       "      <td>20001</td>\n",
       "      <td>10002</td>\n",
       "      <td>17.40806</td>\n",
       "      <td>32.716081</td>\n",
       "    </tr>\n",
       "    <tr>\n",
       "      <th>2</th>\n",
       "      <td>2019-10</td>\n",
       "      <td>20001</td>\n",
       "      <td>10003</td>\n",
       "      <td>76.00625</td>\n",
       "      <td>95.198704</td>\n",
       "    </tr>\n",
       "    <tr>\n",
       "      <th>3</th>\n",
       "      <td>2019-10</td>\n",
       "      <td>20001</td>\n",
       "      <td>10004</td>\n",
       "      <td>324.96172</td>\n",
       "      <td>93.820516</td>\n",
       "    </tr>\n",
       "    <tr>\n",
       "      <th>4</th>\n",
       "      <td>2019-10</td>\n",
       "      <td>20001</td>\n",
       "      <td>10005</td>\n",
       "      <td>17.13921</td>\n",
       "      <td>9.799456</td>\n",
       "    </tr>\n",
       "    <tr>\n",
       "      <th>...</th>\n",
       "      <td>...</td>\n",
       "      <td>...</td>\n",
       "      <td>...</td>\n",
       "      <td>...</td>\n",
       "      <td>...</td>\n",
       "    </tr>\n",
       "    <tr>\n",
       "      <th>262611</th>\n",
       "      <td>2019-10</td>\n",
       "      <td>21276</td>\n",
       "      <td>10428</td>\n",
       "      <td>0.00000</td>\n",
       "      <td>0.010705</td>\n",
       "    </tr>\n",
       "    <tr>\n",
       "      <th>262612</th>\n",
       "      <td>2019-10</td>\n",
       "      <td>21276</td>\n",
       "      <td>10456</td>\n",
       "      <td>0.00000</td>\n",
       "      <td>0.010705</td>\n",
       "    </tr>\n",
       "    <tr>\n",
       "      <th>262613</th>\n",
       "      <td>2019-10</td>\n",
       "      <td>21276</td>\n",
       "      <td>10462</td>\n",
       "      <td>0.00075</td>\n",
       "      <td>0.010705</td>\n",
       "    </tr>\n",
       "    <tr>\n",
       "      <th>262614</th>\n",
       "      <td>2019-10</td>\n",
       "      <td>21276</td>\n",
       "      <td>10495</td>\n",
       "      <td>0.00000</td>\n",
       "      <td>0.010705</td>\n",
       "    </tr>\n",
       "    <tr>\n",
       "      <th>262615</th>\n",
       "      <td>2019-10</td>\n",
       "      <td>21276</td>\n",
       "      <td>10550</td>\n",
       "      <td>0.00000</td>\n",
       "      <td>0.011186</td>\n",
       "    </tr>\n",
       "  </tbody>\n",
       "</table>\n",
       "<p>262616 rows × 5 columns</p>\n",
       "</div>"
      ],
      "text/plain": [
       "        periodo  product_id  customer_id    tn_real  tn_predicho\n",
       "0       2019-10       20001        10001  176.02980   165.651189\n",
       "1       2019-10       20001        10002   17.40806    32.716081\n",
       "2       2019-10       20001        10003   76.00625    95.198704\n",
       "3       2019-10       20001        10004  324.96172    93.820516\n",
       "4       2019-10       20001        10005   17.13921     9.799456\n",
       "...         ...         ...          ...        ...          ...\n",
       "262611  2019-10       21276        10428    0.00000     0.010705\n",
       "262612  2019-10       21276        10456    0.00000     0.010705\n",
       "262613  2019-10       21276        10462    0.00075     0.010705\n",
       "262614  2019-10       21276        10495    0.00000     0.010705\n",
       "262615  2019-10       21276        10550    0.00000     0.011186\n",
       "\n",
       "[262616 rows x 5 columns]"
      ]
     },
     "execution_count": 19,
     "metadata": {},
     "output_type": "execute_result"
    }
   ],
   "source": [
    "df_pred_final"
   ]
  },
  {
   "cell_type": "code",
   "execution_count": 20,
   "metadata": {},
   "outputs": [
    {
     "data": {
      "image/png": "[encoded data removed]",
      "text/plain": [
       "<Figure size 800x800 with 1 Axes>"
      ]
     },
     "metadata": {},
     "output_type": "display_data"
    }
   ],
   "source": [
    "import matplotlib.pyplot as plt\n",
    "\n",
    "# Asume que tu DataFrame se llama `df` y tiene las columnas 'tn_real' y 'tn_predicho'\n",
    "\n",
    "plt.figure(figsize=(8, 8))\n",
    "\n",
    "# 1. Dibuja los puntos\n",
    "plt.scatter(\n",
    "    df_pred_final['tn_real'],\n",
    "    df_pred_final['tn_predicho'],\n",
    "    marker='o'\n",
    ")\n",
    "\n",
    "# 2. Traza la línea y = x para separación perfecta\n",
    "min_val = min(df_pred_final['tn_real'].min(), df_pred_final['tn_predicho'].min())\n",
    "max_val = max(df_pred_final['tn_real'].max(), df_pred_final['tn_predicho'].max())\n",
    "plt.plot(\n",
    "    [min_val, max_val],\n",
    "    [min_val, max_val],\n",
    "    linestyle='-',    # línea continua\n",
    "    linewidth=1       # grosor de línea\n",
    ")\n",
    "\n",
    "# 3. Etiquetas y ajustes\n",
    "plt.title('Toneladas Reales vs. Toneladas Predichas')\n",
    "plt.xlabel('Toneladas Reales')\n",
    "plt.ylabel('Toneladas Predichas')\n",
    "plt.grid(True)\n",
    "plt.tight_layout()\n",
    "plt.show()"
   ]
  },
  {
   "cell_type": "code",
   "execution_count": null,
   "metadata": {},
   "outputs": [],
   "source": [
    "transformar la clase a predecir:\n",
    "- un ratio cociente el valor anterior y el valor actual \n",
    "- delta con el anterior --> mas ruido\n",
    "- \n",
    "\n",
    "moving average\n",
    "\n",
    "metodo directo\n",
    "\n",
    "mismo set para o\n",
    "dtw\n",
    "\n",
    "flag en julio y agosto\n",
    "\n",
    "la media movil debe ser del mes que estoy mirando para atras\n"
   ]
  }
 ],
 "metadata": {
  "kernelspec": {
   "display_name": "Python 3",
   "language": "python",
   "name": "python3"
  },
  "language_info": {
   "codemirror_mode": {
    "name": "ipython",
    "version": 3
   },
   "file_extension": ".py",
   "mimetype": "text/x-python",
   "name": "python",
   "nbconvert_exporter": "python",
   "pygments_lexer": "ipython3",
   "version": "3.9.6"
  }
 },
 "nbformat": 4,
 "nbformat_minor": 2
}
